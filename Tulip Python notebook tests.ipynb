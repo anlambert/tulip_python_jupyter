{
 "cells": [
  {
   "cell_type": "code",
   "execution_count": 1,
   "metadata": {
    "collapsed": false
   },
   "outputs": [
    {
     "ename": "ImportError",
     "evalue": "dynamic module does not define module export function (PyInit__tulip)",
     "output_type": "error",
     "traceback": [
      "\u001b[1;31m---------------------------------------------------------------------------\u001b[0m",
      "\u001b[1;31mImportError\u001b[0m                               Traceback (most recent call last)",
      "\u001b[1;32m<ipython-input-1-131e68ec2f8f>\u001b[0m in \u001b[0;36m<module>\u001b[1;34m()\u001b[0m\n\u001b[0;32m      3\u001b[0m     \u001b[1;32mfrom\u001b[0m \u001b[0mimp\u001b[0m \u001b[1;32mimport\u001b[0m \u001b[0mreload\u001b[0m\u001b[1;33m\u001b[0m\u001b[0m\n\u001b[0;32m      4\u001b[0m \u001b[1;33m\u001b[0m\u001b[0m\n\u001b[1;32m----> 5\u001b[1;33m \u001b[1;32mfrom\u001b[0m \u001b[0mtulip\u001b[0m \u001b[1;32mimport\u001b[0m \u001b[0mtlp\u001b[0m\u001b[1;33m\u001b[0m\u001b[0m\n\u001b[0m\u001b[0;32m      6\u001b[0m \u001b[1;32mimport\u001b[0m \u001b[0mtulipnb\u001b[0m\u001b[1;33m\u001b[0m\u001b[0m\n\u001b[0;32m      7\u001b[0m \u001b[0mreload\u001b[0m\u001b[1;33m(\u001b[0m\u001b[0mtulipnb\u001b[0m\u001b[1;33m)\u001b[0m\u001b[1;33m\u001b[0m\u001b[0m\n",
      "\u001b[1;32m/home/alambert/dev/tulip/build/install/lib/python/tulip/__init__.py\u001b[0m in \u001b[0;36m<module>\u001b[1;34m()\u001b[0m\n\u001b[0;32m     17\u001b[0m   \u001b[0msys\u001b[0m\u001b[1;33m.\u001b[0m\u001b[0msetdlopenflags\u001b[0m\u001b[1;33m(\u001b[0m\u001b[0mDLFCN\u001b[0m\u001b[1;33m.\u001b[0m\u001b[0mRTLD_NOW\u001b[0m \u001b[1;33m|\u001b[0m \u001b[0mDLFCN\u001b[0m\u001b[1;33m.\u001b[0m\u001b[0mRTLD_GLOBAL\u001b[0m\u001b[1;33m)\u001b[0m\u001b[1;33m\u001b[0m\u001b[0m\n\u001b[0;32m     18\u001b[0m \u001b[1;33m\u001b[0m\u001b[0m\n\u001b[1;32m---> 19\u001b[1;33m \u001b[1;32mimport\u001b[0m \u001b[0m_tulip\u001b[0m\u001b[1;33m\u001b[0m\u001b[0m\n\u001b[0m\u001b[0;32m     20\u001b[0m \u001b[1;33m\u001b[0m\u001b[0m\n\u001b[0;32m     21\u001b[0m \u001b[0msys\u001b[0m\u001b[1;33m.\u001b[0m\u001b[0mpath\u001b[0m\u001b[1;33m.\u001b[0m\u001b[0mpop\u001b[0m\u001b[1;33m(\u001b[0m\u001b[1;33m)\u001b[0m\u001b[1;33m\u001b[0m\u001b[0m\n",
      "\u001b[1;31mImportError\u001b[0m: dynamic module does not define module export function (PyInit__tulip)"
     ]
    }
   ],
   "source": [
    "import sys\n",
    "if sys.version_info[0] == 3:\n",
    "    from imp import reload\n",
    "\n",
    "from tulip import tlp\n",
    "import tulipnb\n",
    "reload(tulipnb)\n",
    "\n",
    "graph = tlp.importGraph('Grid Approximation')\n",
    "graph.applySizeAlgorithm('Auto Sizing')\n",
    "graph['viewShape'].setAllNodeValue(tlp.NodeShape.FontAwesomeIcon)\n",
    "tulipnb.display(graph)"
   ]
  },
  {
   "cell_type": "code",
   "execution_count": null,
   "metadata": {
    "collapsed": false,
    "scrolled": true
   },
   "outputs": [],
   "source": [
    "graph = tlp.importGraph('Grid')\n",
    "graph['viewColor'].setAllNodeValue(tlp.Color.Green)\n",
    "tulipnb.display(graph)"
   ]
  },
  {
   "cell_type": "code",
   "execution_count": null,
   "metadata": {
    "collapsed": false
   },
   "outputs": [],
   "source": [
    "from tulipgui import *\n",
    "import os\n",
    "\n",
    "# get the root directory of the Python Standard Libraries\n",
    "pythonStdLibPath = os.path.dirname(os.__file__)\n",
    "\n",
    "# call the 'File System Directory' import plugin from Tulip\n",
    "# importing the tree structure of a file system\n",
    "params = tlp.getDefaultPluginParameters('File System Directory')\n",
    "params['directory color'] = tlp.Color.Blue\n",
    "params['other color'] = tlp.Color.Red\n",
    "params['dir::directory'] = pythonStdLibPath\n",
    "graph = tlp.importGraph('File System Directory', params)\n",
    "\n",
    "# compute an anonymous graph double property that will store node degrees\n",
    "degree = tlp.DoubleProperty(graph)\n",
    "degreeParams = tlp.getDefaultPluginParameters('Degree')\n",
    "graph.applyDoubleAlgorithm('Degree', degree, degreeParams)\n",
    "\n",
    "# create a heat map color scale\n",
    "heatMap = tlp.ColorScale([tlp.Color.Green, tlp.Color.Black, tlp.Color.Red])\n",
    "\n",
    "# linearly map node degrees to colors using the 'Color Mapping' plugin from Tulip\n",
    "# using the heat map color scale\n",
    "colorMappingParams = tlp.getDefaultPluginParameters('Color Mapping', graph)\n",
    "colorMappingParams['input property'] = degree\n",
    "colorMappingParams['colorScale'] = heatMap\n",
    "graph.applyColorAlgorithm('Color Mapping', colorMappingParams)\n",
    "\n",
    "# apply the 'Bubble Tree' graph layout plugin from Tulip\n",
    "graph.applyLayoutAlgorithm('Bubble Tree')\n",
    "\n",
    "# compute quadratic bezier shapes for edges\n",
    "curveEdgeParams = tlp.getDefaultPluginParameters('Curve edges', graph)\n",
    "curveEdgeParams['curve type'] = 'QuadraticDiscrete'\n",
    "graph.applyAlgorithm('Curve edges', curveEdgeParams)\n",
    "\n",
    "tulipnb.display(graph)"
   ]
  }
 ],
 "metadata": {
  "kernelspec": {
   "display_name": "Python 3",
   "language": "python",
   "name": "python3"
  },
  "language_info": {
   "codemirror_mode": {
    "name": "ipython",
    "version": 3
   },
   "file_extension": ".py",
   "mimetype": "text/x-python",
   "name": "python",
   "nbconvert_exporter": "python",
   "pygments_lexer": "ipython3",
   "version": "3.5.1+"
  }
 },
 "nbformat": 4,
 "nbformat_minor": 0
}
